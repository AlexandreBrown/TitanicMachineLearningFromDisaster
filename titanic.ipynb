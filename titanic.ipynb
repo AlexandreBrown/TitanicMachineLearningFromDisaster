{
 "cells": [
  {
   "cell_type": "code",
   "execution_count": null,
   "id": "ce1fd814-f597-4cb5-8c93-bbaef71d7db4",
   "metadata": {},
   "outputs": [],
   "source": []
  }
 ],
 "metadata": {
  "kernelspec": {
   "display_name": "titanic",
   "language": "python",
   "name": "titanic"
  },
  "language_info": {
   "codemirror_mode": {
    "name": "ipython",
    "version": 3
   },
   "file_extension": ".py",
   "mimetype": "text/x-python",
   "name": "python",
   "nbconvert_exporter": "python",
   "pygments_lexer": "ipython3",
   "version": "3.9.10"
  }
 },
 "nbformat": 4,
 "nbformat_minor": 5
}
